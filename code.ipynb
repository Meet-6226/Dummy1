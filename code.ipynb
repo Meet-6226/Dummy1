{
 "cells": [
  {
   "cell_type": "code",
   "execution_count": 1,
   "metadata": {},
   "outputs": [
    {
     "name": "stdout",
     "output_type": "stream",
     "text": [
      "List Iteration\n",
      "11\n",
      "22.5\n",
      "AAA\n"
     ]
    }
   ],
   "source": [
    "print(\"List Iteration\")\n",
    "l=[11,\"22.5\",\"AAA\"]\n",
    "for i in l:\n",
    "    print(i)"
   ]
  },
  {
   "cell_type": "code",
   "execution_count": 2,
   "metadata": {},
   "outputs": [
    {
     "name": "stdout",
     "output_type": "stream",
     "text": [
      "Tuple Iteration\n",
      "11\n",
      "22.5\n",
      "AAA\n"
     ]
    }
   ],
   "source": [
    "print(\"Tuple Iteration\")\n",
    "l=[11,\"22.5\",\"AAA\"]\n",
    "for i in l:\n",
    "    print(i)"
   ]
  },
  {
   "cell_type": "code",
   "execution_count": 4,
   "metadata": {},
   "outputs": [
    {
     "name": "stdout",
     "output_type": "stream",
     "text": [
      "\n",
      "Dictionary Iteration\n",
      "XYZ 123\n",
      "abc 345\n"
     ]
    }
   ],
   "source": [
    "print(\"\\nDictionary Iteration\")\n",
    "d=dict()\n",
    "d['XYZ']=123\n",
    "d['abc']=345\n",
    "for i in d:\n",
    "    print(\"%s %d\"%(i,d[i]))\n"
   ]
  },
  {
   "cell_type": "code",
   "execution_count": 5,
   "metadata": {},
   "outputs": [
    {
     "name": "stdout",
     "output_type": "stream",
     "text": [
      "\n",
      " Set Iteration\n",
      "1 2 3 4 5 6 "
     ]
    }
   ],
   "source": [
    "print(\"\\n Set Iteration\")\n",
    "set1={1,2,3,4,5,6}\n",
    "for i in set1:\n",
    "    print(i,end=' ')"
   ]
  },
  {
   "cell_type": "code",
   "execution_count": 6,
   "metadata": {},
   "outputs": [
    {
     "name": "stdout",
     "output_type": "stream",
     "text": [
      "       *\n",
      "      ***\n",
      "     *****\n",
      "    *******\n",
      "   *********\n",
      "  ***********\n",
      " *************\n",
      "***************\n"
     ]
    }
   ],
   "source": [
    "rows=int(input(\"Enter number of rows\"))\n",
    "for i in range(rows):\n",
    "    for j in range(rows-i-1):\n",
    "         print(\" \",end=\"\")\n",
    "    for j in range(2*i+1):\n",
    "        print(\"*\",end=\"\")\n",
    "    print()"
   ]
  },
  {
   "cell_type": "code",
   "execution_count": 15,
   "metadata": {},
   "outputs": [
    {
     "name": "stdout",
     "output_type": "stream",
     "text": [
      "0 1 2 3 4 5 6 7 8 9 10 12 13 14 15 16 17 18 19 20 21 22 23 24 25 26 27 28 29 30 31 32 33 34 35 36 37 38 39 40 41 42 43 44 45 46 47 48 49 Finally funished\n"
     ]
    }
   ],
   "source": [
    "for x in range(50):\n",
    "    if x==11:\n",
    "        break\n",
    "    print(x,end=\" \")\n",
    "else:\n",
    "    print(\"Finally funished\") "
   ]
  },
  {
   "cell_type": "code",
   "execution_count": null,
   "metadata": {},
   "outputs": [],
   "source": [
    "for x in range(50):\n",
    "    if x==11:\n",
    "        continue\n",
    "    print(x,end=\" \")\n",
    "else:\n",
    "    print(\"Finally funished\") "
   ]
  },
  {
   "cell_type": "code",
   "execution_count": 21,
   "metadata": {},
   "outputs": [
    {
     "name": "stdout",
     "output_type": "stream",
     "text": [
      "Element found\n"
     ]
    }
   ],
   "source": [
    "ls=[10,20,30,40,50,60,70]\n",
    "search_ele=int(input(\"Enter a number\"))\n",
    "for ele in ls:\n",
    "    if search_ele==ele:\n",
    "        print(\"Element found\") \n",
    "        break\n",
    "else :\n",
    "    print(\"Element not found\")"
   ]
  },
  {
   "cell_type": "code",
   "execution_count": 23,
   "metadata": {},
   "outputs": [
    {
     "name": "stdout",
     "output_type": "stream",
     "text": [
      "Element found\n"
     ]
    }
   ],
   "source": [
    "ls=[10,20,30,40,50,60,70]\n",
    "search_ele=int(input(\"Enter a number\"))\n",
    "i=0\n",
    "while i<len(ls):\n",
    "    if search_ele==ls[i]:\n",
    "        print(\"Element found\") \n",
    "        break\n",
    "    i+=1\n",
    "else :\n",
    "    print(\"Element not found\")"
   ]
  },
  {
   "cell_type": "code",
   "execution_count": 24,
   "metadata": {},
   "outputs": [
    {
     "name": "stdout",
     "output_type": "stream",
     "text": [
      "The new created array is:  1 2 3 "
     ]
    }
   ],
   "source": [
    " import array as arr\n",
    "a=arr.array('i',[1,2,3])\n",
    "print(\"The new created array is: \",end=\" \")\n",
    "for i in range(lem(a)):\n",
    "    print(a[i], end=\" \")"
   ]
  },
  {
   "cell_type": "code",
   "execution_count": 25,
   "metadata": {},
   "outputs": [
    {
     "name": "stdout",
     "output_type": "stream",
     "text": [
      "\n",
      "The new created array is : 1 2 3 "
     ]
    }
   ],
   "source": [
    "b=arr.array('d',[2.5,3.2,3.3])\n",
    "print(\"\\nThe new created array is :\",end=\" \")\n",
    "for i in a:\n",
    "    print(i,end=\" \")"
   ]
  },
  {
   "cell_type": "code",
   "execution_count": 28,
   "metadata": {},
   "outputs": [
    {
     "name": "stdout",
     "output_type": "stream",
     "text": [
      "Array before insertion :  1 2 3 \n",
      "Array after insertion :  1 4 2 3 "
     ]
    }
   ],
   "source": [
    "import array as arr\n",
    "a=arr.array('i',[1,2,3])\n",
    "print(\"Array before insertion : \",end=\" \")\n",
    "for i in range(0,3):\n",
    "    print(a[i],end=\" \")\n",
    "print()\n",
    "\n",
    "a.insert(1,4)\n",
    "\n",
    "print(\"Array after insertion : \",end=\" \")\n",
    "for i in (a):\n",
    "    print(i,end=\" \")"
   ]
  },
  {
   "cell_type": "code",
   "execution_count": null,
   "metadata": {},
   "outputs": [],
   "source": [
    "import array\n",
    "arr=array.array('i',[1,2,3,1,5])\n",
    "\n",
    "print(f\"The popped element is : {arr.pop(2)}\")\n"
   ]
  },
  {
   "cell_type": "code",
   "execution_count": 10,
   "metadata": {},
   "outputs": [
    {
     "ename": "AttributeError",
     "evalue": "module 'ModuleEx1' has no attribute 'add'",
     "output_type": "error",
     "traceback": [
      "\u001b[0;31m---------------------------------------------------------------------------\u001b[0m",
      "\u001b[0;31mAttributeError\u001b[0m                            Traceback (most recent call last)",
      "Cell \u001b[0;32mIn[10], line 2\u001b[0m\n\u001b[1;32m      1\u001b[0m \u001b[38;5;28;01mimport\u001b[39;00m \u001b[38;5;21;01mModuleEx1\u001b[39;00m\n\u001b[0;32m----> 2\u001b[0m \u001b[38;5;28mprint\u001b[39m(\u001b[43mModuleEx1\u001b[49m\u001b[38;5;241;43m.\u001b[39;49m\u001b[43madd\u001b[49m(\u001b[38;5;241m5\u001b[39m,\u001b[38;5;241m10\u001b[39m))\n\u001b[1;32m      3\u001b[0m \u001b[38;5;28mprint\u001b[39m(ModuleEx1\u001b[38;5;241m.\u001b[39mprod(\u001b[38;5;241m10\u001b[39m,\u001b[38;5;241m20\u001b[39m))\n\u001b[1;32m      4\u001b[0m \u001b[38;5;28mprint\u001b[39m(ModuleEx1\u001b[38;5;241m.\u001b[39mx)\n",
      "\u001b[0;31mAttributeError\u001b[0m: module 'ModuleEx1' has no attribute 'add'"
     ]
    }
   ],
   "source": [
    "import ModuleEx1\n",
    "print(ModuleEx1.add(5,10))\n",
    "print(ModuleEx1.prod(10,20))\n",
    "print(ModuleEx1.x)"
   ]
  },
  {
   "cell_type": "code",
   "execution_count": null,
   "metadata": {},
   "outputs": [],
   "source": []
  },
  {
   "cell_type": "code",
   "execution_count": null,
   "metadata": {},
   "outputs": [],
   "source": []
  }
 ],
 "metadata": {
  "kernelspec": {
   "display_name": "Python 3",
   "language": "python",
   "name": "python3"
  },
  "language_info": {
   "codemirror_mode": {
    "name": "ipython",
    "version": 3
   },
   "file_extension": ".py",
   "mimetype": "text/x-python",
   "name": "python",
   "nbconvert_exporter": "python",
   "pygments_lexer": "ipython3",
   "version": "3.12.6"
  }
 },
 "nbformat": 4,
 "nbformat_minor": 2
}
